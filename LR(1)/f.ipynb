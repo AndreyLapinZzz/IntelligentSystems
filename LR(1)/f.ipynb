{
 "cells": [
  {
   "cell_type": "code",
   "execution_count": 49,
   "metadata": {},
   "outputs": [],
   "source": [
    "with open(\"Grammar.txt\", 'r', encoding='utf-8') as f:\n",
    "    rows = f.readlines()\n",
    "\n",
    "state_table = {}\n",
    "new_rows = []\n",
    "states = []\n",
    "\n",
    "for i in range(len(rows)):\n",
    "    splited = rows[i].split()\n",
    "    right = splited[2:]\n",
    "    \n",
    "    state_table[i + 1] = {}\n",
    "    new_rows.append([str(i + 1), splited[0], splited[1]])\n",
    "    for j in range(len(right)):\n",
    "        state = str((i + 1, j)).replace(' ', '')\n",
    "        states.append(state)\n",
    "        new_rows[i] += [state, right[j]]\n",
    "    \n",
    "    new_rows[i] += ['(' + str(i + 1) + ',' + str(len(right)) + ')']\n",
    "    # print(new_rows[i])\n",
    "    new_rows[i][-1] += '\\n'\n",
    "    new_rows[i] = ' '.join(new_rows[i])\n",
    "\n",
    "for i in range(1, len(new_rows)):\n",
    "    new_rows[i] = new_rows[i].lstrip()\n",
    "# new_rows\n",
    "rows = ''.join(new_rows)\n",
    "\n",
    "# rows\n",
    "with open('newGrammar.txt', 'w', encoding='utf-8') as f:\n",
    "    f.writelines(rows)"
   ]
  },
  {
   "cell_type": "code",
   "execution_count": 50,
   "metadata": {},
   "outputs": [
    {
     "data": {
      "text/plain": [
       "['(1,0)',\n",
       " '(1,1)',\n",
       " '(1,2)',\n",
       " '(2,0)',\n",
       " '(2,1)',\n",
       " '(2,2)',\n",
       " '(2,3)',\n",
       " '(3,0)',\n",
       " '(3,1)',\n",
       " '(4,0)',\n",
       " '(4,1)']"
      ]
     },
     "execution_count": 50,
     "metadata": {},
     "output_type": "execute_result"
    }
   ],
   "source": [
    "with open(\"GrammarExample.txt\", 'r', encoding='utf-8') as f:\n",
    "    rows = f.readlines()\n",
    "\n",
    "# with open('newGrammar.txt', 'r', encoding='utf-8') as f:\n",
    "#     rows = f.readlines()\n",
    "\n",
    "states2 = []\n",
    "for row in rows:\n",
    "    splited = row.split(' ')[3:]\n",
    "    for i in range(0, len(splited), 2):\n",
    "        states2.append(splited[i].replace('\\n', ''))\n",
    "\n",
    "states2"
   ]
  },
  {
   "cell_type": "code",
   "execution_count": 51,
   "metadata": {},
   "outputs": [
    {
     "data": {
      "text/plain": [
       "['(2,0)', '(2,1)', '(2,2)', '(2,3)\\n']"
      ]
     },
     "execution_count": 51,
     "metadata": {},
     "output_type": "execute_result"
    }
   ],
   "source": [
    "rows[1].split(' ')[3:][0::2]"
   ]
  },
  {
   "cell_type": "code",
   "execution_count": 52,
   "metadata": {},
   "outputs": [
    {
     "data": {
      "text/plain": [
       "['IDList', ',', 'ID']"
      ]
     },
     "execution_count": 52,
     "metadata": {},
     "output_type": "execute_result"
    }
   ],
   "source": [
    "rows[1].split(' ')[3:][1::2]"
   ]
  },
  {
   "cell_type": "code",
   "execution_count": 53,
   "metadata": {},
   "outputs": [],
   "source": [
    "def str_to_tuple(s):\n",
    "    lst = s[1:-1].split(',')\n",
    "    return (int(lst[0]), int(lst[1]))"
   ]
  },
  {
   "cell_type": "code",
   "execution_count": 54,
   "metadata": {},
   "outputs": [],
   "source": [
    "state_symbol_dict = {}\n",
    "for row in rows:\n",
    "    row_states = row.split(' ')[3:][0::2]\n",
    "    row_symbols = row.split(' ')[3:][1::2]\n",
    "    for i in range(len(row_states) - 1):\n",
    "        st, sym = row_states[i].replace('\\n', ''), row_symbols[i].replace('\\n', '')\n",
    "        st = str_to_tuple(st)\n",
    "        state_symbol_dict[st] = sym\n",
    "    st = row_states[len(row_states) - 1].replace('\\n', '')\n",
    "    st = str_to_tuple(st)\n",
    "    state_symbol_dict[st] = 'empty'"
   ]
  },
  {
   "cell_type": "code",
   "execution_count": 55,
   "metadata": {},
   "outputs": [
    {
     "data": {
      "text/plain": [
       "{(1, 0): 'int',\n",
       " (1, 1): 'IDList',\n",
       " (1, 2): 'empty',\n",
       " (2, 0): 'IDList',\n",
       " (2, 1): ',',\n",
       " (2, 2): 'ID',\n",
       " (2, 3): 'empty',\n",
       " (3, 0): 'ID',\n",
       " (3, 1): 'empty',\n",
       " (4, 0): 'id',\n",
       " (4, 1): 'empty'}"
      ]
     },
     "execution_count": 55,
     "metadata": {},
     "output_type": "execute_result"
    }
   ],
   "source": [
    "state_symbol_dict"
   ]
  },
  {
   "cell_type": "code",
   "execution_count": 56,
   "metadata": {},
   "outputs": [
    {
     "data": {
      "text/plain": [
       "['(2,0)', 'IDList', '(2,1)', ',', '(2,2)', 'ID', '(2,3)\\n']"
      ]
     },
     "execution_count": 56,
     "metadata": {},
     "output_type": "execute_result"
    }
   ],
   "source": [
    "rows[1].split(' ')[3:]"
   ]
  },
  {
   "cell_type": "code",
   "execution_count": 57,
   "metadata": {},
   "outputs": [],
   "source": [
    "for i in range(len(states2)):\n",
    "    states2[i] = str_to_tuple(states2[i])"
   ]
  },
  {
   "cell_type": "code",
   "execution_count": 58,
   "metadata": {},
   "outputs": [
    {
     "data": {
      "text/plain": [
       "[{'base': [(1, 0)], 'closure': [(1, 0)]},\n",
       " {'base': [(1, 1)], 'closure': [(1, 1), (2, 0), (3, 0), (4, 0)]},\n",
       " {'base': [(1, 2), (2, 1)], 'closure': [(1, 2), (2, 1)]},\n",
       " {'base': [(2, 2)], 'closure': [(2, 2), (4, 0)]},\n",
       " {'base': [(2, 3)], 'closure': [(2, 3)]},\n",
       " {'base': [(3, 1)], 'closure': [(3, 1)]},\n",
       " {'base': [(4, 1)], 'closure': [(4, 1)]}]"
      ]
     },
     "execution_count": 58,
     "metadata": {},
     "output_type": "execute_result"
    }
   ],
   "source": [
    "state_used = []\n",
    "# Надо построить БАЗУ и ЗАМЫКАНИЕ\n",
    "\n",
    "terminals = ['int', ',', 'id']\n",
    "base_closure = []\n",
    "closures = []\n",
    "\n",
    "def spusk(base, closure):\n",
    "    for current_state in base:\n",
    "        rule_number, state_number = current_state\n",
    "        if current_state not in closure:\n",
    "            closure.append(current_state)\n",
    "\n",
    "        state_used.append(current_state)\n",
    "        cur_states, cur_symbols = rows[rule_number - 1].split(' ')[3:][0::2], rows[rule_number - 1].split(' ')[3:][1::2]\n",
    "        \n",
    "        if state_number != len(cur_states) -1:\n",
    "            symbol = cur_symbols[state_number]\n",
    "            if symbol in terminals:\n",
    "                return closure\n",
    "            else:\n",
    "                for row in rows:\n",
    "                    splited2 = row.split(' ')\n",
    "                    left_symbol = splited2[1]\n",
    "                    state = str_to_tuple(splited2[3])\n",
    "                    if symbol == left_symbol and state != current_state:\n",
    "                        if state in states2:\n",
    "                            states2.remove(state)\n",
    "                        spusk([state], closure)\n",
    "\n",
    "    return closure\n",
    "\n",
    "while len(states2) != 0:\n",
    "    state = states2[0]\n",
    "    states2.pop(0)\n",
    "    base = [state]\n",
    "    if state[1] != 0:\n",
    "        prev_state = (state[0], state[1] - 1)\n",
    "        for cl in closures:\n",
    "            if prev_state in cl:\n",
    "                for cl_state in cl:\n",
    "                    next_state = (cl_state[0], cl_state[1] + 1)\n",
    "                    if state_symbol_dict[cl_state] == state_symbol_dict[prev_state] and cl_state != prev_state and next_state in states2:\n",
    "                        base.append(next_state)\n",
    "                        states2.remove(next_state)\n",
    "\n",
    "    # print(\"BASE: \", base)\n",
    "    if state not in state_used:\n",
    "        closure = spusk(base, [])\n",
    "        closures.append(closure.copy())\n",
    "        base_closure.append({\"base\": base, \"closure\": closure.copy()})\n",
    "\n",
    "base_closure"
   ]
  },
  {
   "cell_type": "code",
   "execution_count": 59,
   "metadata": {},
   "outputs": [],
   "source": [
    "state_num = {}\n",
    "for i, d in enumerate(base_closure):\n",
    "    base, closure = d['base'], d['closure']\n",
    "    state_num[i + 1] = closure"
   ]
  },
  {
   "cell_type": "code",
   "execution_count": 60,
   "metadata": {},
   "outputs": [
    {
     "data": {
      "text/plain": [
       "{1: [(1, 0)],\n",
       " 2: [(1, 1), (2, 0), (3, 0), (4, 0)],\n",
       " 3: [(1, 2), (2, 1)],\n",
       " 4: [(2, 2), (4, 0)],\n",
       " 5: [(2, 3)],\n",
       " 6: [(3, 1)],\n",
       " 7: [(4, 1)]}"
      ]
     },
     "execution_count": 60,
     "metadata": {},
     "output_type": "execute_result"
    }
   ],
   "source": [
    "state_num"
   ]
  },
  {
   "cell_type": "code",
   "execution_count": 61,
   "metadata": {},
   "outputs": [],
   "source": [
    "state_num_reversed = {}\n",
    "for st in state_num:\n",
    "    for val in state_num[st]:\n",
    "        state_num_reversed[val] = st"
   ]
  },
  {
   "cell_type": "code",
   "execution_count": 62,
   "metadata": {},
   "outputs": [
    {
     "data": {
      "text/plain": [
       "{(1, 0): 1,\n",
       " (1, 1): 2,\n",
       " (2, 0): 2,\n",
       " (3, 0): 2,\n",
       " (4, 0): 4,\n",
       " (1, 2): 3,\n",
       " (2, 1): 3,\n",
       " (2, 2): 4,\n",
       " (2, 3): 5,\n",
       " (3, 1): 6,\n",
       " (4, 1): 7}"
      ]
     },
     "execution_count": 62,
     "metadata": {},
     "output_type": "execute_result"
    }
   ],
   "source": [
    "state_num_reversed"
   ]
  },
  {
   "cell_type": "code",
   "execution_count": 63,
   "metadata": {},
   "outputs": [],
   "source": [
    "all_symbols = list(set(list(state_symbol_dict.values())))"
   ]
  },
  {
   "cell_type": "code",
   "execution_count": 64,
   "metadata": {},
   "outputs": [
    {
     "data": {
      "text/plain": [
       "{1: {'int': 'S2'},\n",
       " 2: {'IDList': 'S3', 'ID': 'S6', 'id': 'S7'},\n",
       " 3: {',': 'S4'},\n",
       " 4: {'ID': 'S5', 'id': 'S7'},\n",
       " 5: {},\n",
       " 6: {},\n",
       " 7: {}}"
      ]
     },
     "execution_count": 64,
     "metadata": {},
     "output_type": "execute_result"
    }
   ],
   "source": [
    "state_table = {}\n",
    "R_states = []\n",
    "R_rules = []\n",
    "for i in state_num:\n",
    "    state_table[i] = {}\n",
    "    closure = state_num[i]\n",
    "    for cl_state in closure:\n",
    "        num_rule, num_in_row = cl_state\n",
    "        row = rows[num_rule - 1].split(' ')[3:]\n",
    "        states, symbols = row[0::2], row[1::2]\n",
    "        if num_in_row != len(symbols):\n",
    "            symbol = symbols[num_in_row]\n",
    "            next_state = str_to_tuple(states[num_in_row + 1].replace('\\n', ''))\n",
    "            state_table[i][symbol] = f\"S{state_num_reversed[next_state]}\"\n",
    "        else:\n",
    "            R_states.append(i)\n",
    "            R_rules.append(num_rule)\n",
    "\n",
    "state_table"
   ]
  },
  {
   "cell_type": "code",
   "execution_count": 65,
   "metadata": {},
   "outputs": [
    {
     "data": {
      "text/plain": [
       "{(1, 0): 1,\n",
       " (1, 1): 2,\n",
       " (2, 0): 2,\n",
       " (3, 0): 2,\n",
       " (4, 0): 4,\n",
       " (1, 2): 3,\n",
       " (2, 1): 3,\n",
       " (2, 2): 4,\n",
       " (2, 3): 5,\n",
       " (3, 1): 6,\n",
       " (4, 1): 7}"
      ]
     },
     "execution_count": 65,
     "metadata": {},
     "output_type": "execute_result"
    }
   ],
   "source": [
    "state_num_reversed"
   ]
  },
  {
   "cell_type": "code",
   "execution_count": 66,
   "metadata": {},
   "outputs": [
    {
     "data": {
      "text/plain": [
       "[3, 5, 6, 7]"
      ]
     },
     "execution_count": 66,
     "metadata": {},
     "output_type": "execute_result"
    }
   ],
   "source": [
    "R_states"
   ]
  },
  {
   "cell_type": "code",
   "execution_count": 67,
   "metadata": {},
   "outputs": [
    {
     "data": {
      "text/plain": [
       "{1: {'int': 'S2'},\n",
       " 2: {'IDList': 'S3', 'ID': 'S6', 'id': 'S7'},\n",
       " 3: {',': 'S4'},\n",
       " 4: {'ID': 'S5', 'id': 'S7'},\n",
       " 5: {},\n",
       " 6: {},\n",
       " 7: {}}"
      ]
     },
     "execution_count": 67,
     "metadata": {},
     "output_type": "execute_result"
    }
   ],
   "source": [
    "state_table"
   ]
  },
  {
   "cell_type": "code",
   "execution_count": 68,
   "metadata": {},
   "outputs": [
    {
     "data": {
      "text/plain": [
       "{1: {'int': 'S2'},\n",
       " 2: {'IDList': 'S3', 'ID': 'S6', 'id': 'S7'},\n",
       " 3: {',': 'S4'},\n",
       " 4: {'ID': 'S5', 'id': 'S7'},\n",
       " 5: {},\n",
       " 6: {},\n",
       " 7: {}}"
      ]
     },
     "execution_count": 68,
     "metadata": {},
     "output_type": "execute_result"
    }
   ],
   "source": [
    "state_table"
   ]
  },
  {
   "cell_type": "code",
   "execution_count": 69,
   "metadata": {},
   "outputs": [
    {
     "data": {
      "text/plain": [
       "{1: {'int': 'S2'},\n",
       " 2: {'IDList': 'S3', 'ID': 'S6', 'id': 'S7'},\n",
       " 3: {',': 'S4'},\n",
       " 4: {'ID': 'S5', 'id': 'S7'},\n",
       " 5: {},\n",
       " 6: {},\n",
       " 7: {}}"
      ]
     },
     "execution_count": 69,
     "metadata": {},
     "output_type": "execute_result"
    }
   ],
   "source": [
    "state_table"
   ]
  },
  {
   "cell_type": "code",
   "execution_count": 70,
   "metadata": {},
   "outputs": [],
   "source": [
    "def spusk_r(used_symbols, left_symbol, num_rule, st):\n",
    "    if left_symbol == \"S\":\n",
    "        state_table[st]['empty'] = f'R{num_rule}'\n",
    "        used_symbols.append(left_symbol)\n",
    "\n",
    "    if left_symbol in used_symbols:\n",
    "        return\n",
    "\n",
    "    for row in rows:\n",
    "        splited = row.split(' ')\n",
    "        right = splited[3:]\n",
    "        right_states = right[0::2]\n",
    "        right_symbols = right[1::2]\n",
    "\n",
    "        for i, new_sym in enumerate(right_symbols):\n",
    "            if new_sym == left_symbol:\n",
    "                next_state = str_to_tuple(right_states[i + 1].replace('\\n', ''))\n",
    "                if next_state[1] == len(right_states) - 1:\n",
    "                    # used_symbols.append(left_symbol)\n",
    "                    state_table[st]['empty'] = f'R{num_rule}'\n",
    "                    new_left_symbol = splited[1]\n",
    "                    if new_left_symbol != left_symbol:\n",
    "                        used_symbols.append(new_left_symbol)\n",
    "                        spusk_r(used_symbols, new_left_symbol, num_rule, st)\n",
    "                else:\n",
    "                    next_symbol = right_symbols[i + 1]\n",
    "                    if next_symbol in terminals:\n",
    "                        used_symbols.append(next_symbol)\n",
    "                        state_table[st][next_symbol] = f'R{num_rule}'\n",
    "                    else:\n",
    "                        spusk_r(used_symbols, next_symbol, num_rule, st)\n",
    "    return"
   ]
  },
  {
   "cell_type": "code",
   "execution_count": 71,
   "metadata": {},
   "outputs": [
    {
     "data": {
      "text/plain": [
       "4"
      ]
     },
     "execution_count": 71,
     "metadata": {},
     "output_type": "execute_result"
    }
   ],
   "source": [
    "len(R_states)"
   ]
  },
  {
   "cell_type": "code",
   "execution_count": 72,
   "metadata": {},
   "outputs": [
    {
     "name": "stdout",
     "output_type": "stream",
     "text": [
      "\n",
      "\n",
      "{',': 'S4'}\n",
      "S 1 3\n",
      "{',': 'S4', 'empty': 'R1'}\n",
      "\n",
      "\n",
      "{}\n",
      "IDList 2 5\n",
      "{'empty': 'R2', ',': 'R2'}\n",
      "\n",
      "{}\n",
      "IDList 3 6\n",
      "{'empty': 'R3', ',': 'R3'}\n",
      "\n",
      "{}\n",
      "ID 4 7\n",
      "{'empty': 'R4'}\n",
      "\n"
     ]
    }
   ],
   "source": [
    "for i, d in state_table.items():\n",
    "    # print(i, d)\n",
    "    # print(\"i: \", i)\n",
    "    used_symbols = []\n",
    "    if i in R_states:\n",
    "        R_states.pop(0)\n",
    "        num_rule = R_rules[0]\n",
    "        R_rules.pop(0)\n",
    "\n",
    "        left_symbol = rows[num_rule - 1].split(' ')[1]\n",
    "        print(state_table[i])\n",
    "        print(left_symbol, num_rule, i)\n",
    "        spusk_r(used_symbols, left_symbol, num_rule, i)\n",
    "        print(state_table[i])\n",
    "    print()"
   ]
  },
  {
   "cell_type": "code",
   "execution_count": 79,
   "metadata": {},
   "outputs": [],
   "source": [
    "state_table[7][','] = 'R4'"
   ]
  },
  {
   "cell_type": "code",
   "execution_count": 80,
   "metadata": {},
   "outputs": [],
   "source": [
    "import pickle\n",
    "\n",
    "with open(\"DKA2.pkl\", \"wb\") as f:\n",
    "    pickle.dump(state_table, f)\n",
    "\n",
    "# with open(\"DKA.pkl\", \"wb\") as f:\n",
    "#     pickle.dump(state_table, f)"
   ]
  },
  {
   "cell_type": "code",
   "execution_count": 75,
   "metadata": {},
   "outputs": [],
   "source": [
    "rule_symbol = {}\n",
    "for row in rows:\n",
    "    # print(row)\n",
    "    splited = row.split(' ')\n",
    "    num_rule, symbol = int(splited[0]), splited[1]\n",
    "    rule_symbol[num_rule] = symbol"
   ]
  },
  {
   "cell_type": "code",
   "execution_count": 116,
   "metadata": {},
   "outputs": [
    {
     "data": {
      "text/plain": [
       "[0, 1]"
      ]
     },
     "execution_count": 116,
     "metadata": {},
     "output_type": "execute_result"
    }
   ],
   "source": [
    "a = [0, 1, 2]\n",
    "n = 2\n",
    "a = a[:len(a)-n + 1]\n",
    "a"
   ]
  },
  {
   "cell_type": "code",
   "execution_count": 88,
   "metadata": {},
   "outputs": [],
   "source": [
    "rule_lengths = {}\n",
    "for i, row in enumerate(rows):\n",
    "    symbols = row.split(' ')[3:][1::2]\n",
    "    rule_lengths[i + 1] = len(symbols)\n",
    "\n",
    "with open(\"rule_lengths\", \"wb\") as f:\n",
    "    pickle.dump(rule_lengths, f)"
   ]
  },
  {
   "cell_type": "code",
   "execution_count": 76,
   "metadata": {},
   "outputs": [],
   "source": [
    "# terminals = ['NUM', 'id', '(', ')', 'true', 'false', 'int', 'void', 'bool', '+', '-', '*', '/', '||', '&&', '<', '>', '=', '<=', '>=', '!=', '==', 'if', 'while', '{', '}', ',', 'else', 'return']\n",
    "with open(\"terminals2.pkl\", \"wb\") as f:\n",
    "    pickle.dump(terminals, f)\n",
    "\n",
    "with open(\"rule_symbol2.pkl\", \"wb\") as f:\n",
    "    pickle.dump(rule_symbol, f)"
   ]
  },
  {
   "cell_type": "code",
   "execution_count": 77,
   "metadata": {},
   "outputs": [],
   "source": [
    "# terminals = ['NUM', 'id', '(', ')', 'true', 'false', 'int', 'void', 'bool', '+', '-', '*', '/', '||', '&&', '<', '>', '=', '<=', '>=', '!=', '==', 'if', 'while', '{', '}', ',', 'else', 'return']\n",
    "# with open(\"terminals.pkl\", \"wb\") as f:\n",
    "#     pickle.dump(terminals, f)\n",
    "\n",
    "# with open(\"rule_symbol.pkl\", \"wb\") as f:\n",
    "#     pickle.dump(rule_symbol, f)"
   ]
  },
  {
   "cell_type": "code",
   "execution_count": 78,
   "metadata": {},
   "outputs": [
    {
     "data": {
      "text/plain": [
       "{1: {'int': 'S2'},\n",
       " 2: {'IDList': 'S3', 'ID': 'S6', 'id': 'S7'},\n",
       " 3: {',': 'S4', 'empty': 'R1'},\n",
       " 4: {'ID': 'S5', 'id': 'S7'},\n",
       " 5: {'empty': 'R2', ',': 'R2'},\n",
       " 6: {'empty': 'R3', ',': 'R3'},\n",
       " 7: {'empty': 'R4'}}"
      ]
     },
     "execution_count": 78,
     "metadata": {},
     "output_type": "execute_result"
    }
   ],
   "source": [
    "state_table"
   ]
  }
 ],
 "metadata": {
  "kernelspec": {
   "display_name": "Python 3",
   "language": "python",
   "name": "python3"
  },
  "language_info": {
   "codemirror_mode": {
    "name": "ipython",
    "version": 3
   },
   "file_extension": ".py",
   "mimetype": "text/x-python",
   "name": "python",
   "nbconvert_exporter": "python",
   "pygments_lexer": "ipython3",
   "version": "3.12.2"
  }
 },
 "nbformat": 4,
 "nbformat_minor": 2
}
